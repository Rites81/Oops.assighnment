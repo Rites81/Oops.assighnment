{
 "cells": [
  {
   "cell_type": "markdown",
   "id": "a7f2d518",
   "metadata": {},
   "source": [
    "### Explain Class and Object with respect to Object-Oriented Programming. Give a suitable example\n",
    "\n",
    "#### Class:: A class is a template or blueprint from which objects are created.\n",
    "        Example - A car\n",
    "#### Object:: Object is a instance of class contain attribute and property of its method.\n",
    "        Example - colour,seat and its other properties."
   ]
  },
  {
   "cell_type": "markdown",
   "id": "b6edd0a2",
   "metadata": {},
   "source": [
    "### Name the four pillars of OOPs.\n",
    "\n",
    "#### Inheritance - It acquire all properties of its parent.\n",
    "#### Polymorphism - Polymorphism help to do any task in a different way.\n",
    "#### Encapsulation - Encapsulation help to bind and combine a data in a single unit. \n",
    "#### Abstraction - Abstraction is the process of hiding unnecessary details from the user in order to make the program easier to understand and use.\n",
    "\n"
   ]
  },
  {
   "cell_type": "markdown",
   "id": "a5578138",
   "metadata": {},
   "source": [
    "### Explain why the __init__() function is used. Give a suitable example\n",
    "\n",
    "__init__ is a keyword, it is used as a consturctor. All classes have a function called __init__(), which is always executed when the class is being initiated."
   ]
  },
  {
   "cell_type": "code",
   "execution_count": 3,
   "id": "d7764c77",
   "metadata": {},
   "outputs": [
    {
     "name": "stdout",
     "output_type": "stream",
     "text": [
      "Ritesh\n",
      "20\n"
     ]
    }
   ],
   "source": [
    "class person:\n",
    "    def __init__(self,name,age):\n",
    "        self.name=name\n",
    "        self.age=age\n",
    "        \n",
    "p1=person(\"Ritesh\",20)\n",
    "\n",
    "print(p1.name)\n",
    "print(p1.age)\n",
    "        "
   ]
  },
  {
   "cell_type": "markdown",
   "id": "6d73294e",
   "metadata": {},
   "source": [
    "### Why self is used in OOPs?\n",
    "\n",
    "#### Self is used to call itself, The keyword self is used to refer to the current class itself."
   ]
  },
  {
   "cell_type": "markdown",
   "id": "623f6530",
   "metadata": {},
   "source": [
    "###  What is inheritance? Give an example for each type of inheritance.\n",
    "\n",
    "### Inheritance - Inheritance is used to acquire all property of its parent class."
   ]
  },
  {
   "cell_type": "code",
   "execution_count": 5,
   "id": "0e1410a6",
   "metadata": {},
   "outputs": [],
   "source": [
    "class parent():\n",
    "    def test_parent(self):\n",
    "        print(\"This is my parent class\")"
   ]
  },
  {
   "cell_type": "code",
   "execution_count": 8,
   "id": "7ce5e8b1",
   "metadata": {},
   "outputs": [],
   "source": [
    "class child(parent):\n",
    "      pass"
   ]
  },
  {
   "cell_type": "code",
   "execution_count": 9,
   "id": "1f257fee",
   "metadata": {},
   "outputs": [],
   "source": [
    "child_obj=child()"
   ]
  },
  {
   "cell_type": "code",
   "execution_count": 10,
   "id": "84e516d1",
   "metadata": {},
   "outputs": [
    {
     "name": "stdout",
     "output_type": "stream",
     "text": [
      "This is my parent class\n"
     ]
    }
   ],
   "source": [
    "child_obj.test_parent()"
   ]
  },
  {
   "cell_type": "code",
   "execution_count": null,
   "id": "8d75de28",
   "metadata": {},
   "outputs": [],
   "source": []
  }
 ],
 "metadata": {
  "kernelspec": {
   "display_name": "Python 3 (ipykernel)",
   "language": "python",
   "name": "python3"
  },
  "language_info": {
   "codemirror_mode": {
    "name": "ipython",
    "version": 3
   },
   "file_extension": ".py",
   "mimetype": "text/x-python",
   "name": "python",
   "nbconvert_exporter": "python",
   "pygments_lexer": "ipython3",
   "version": "3.10.5"
  }
 },
 "nbformat": 4,
 "nbformat_minor": 5
}
